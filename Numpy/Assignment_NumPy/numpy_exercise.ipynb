{
 "cells": [
  {
   "cell_type": "markdown",
   "id": "399f4ab1",
   "metadata": {},
   "source": [
    "<h3 align=\"center\" style=\"color:blue\">Codebasics Python Course: Numpy Exercise</h3>"
   ]
  },
  {
   "cell_type": "markdown",
   "id": "99f1a070",
   "metadata": {},
   "source": [
    "At **AtliQ**, a software service company, the **HR team** wants to understand how happy employees are with company policies and how long they've been with the company. This survey aims to help HR improve the work environment and keep employees satisfied.\n",
    "\n",
    "**Data Structure:** Two numpy arrays capture survey results and employee details:\n",
    "\n",
    "**Employee Details:** Contains Employee ID, Department, and Number of Years with AtliQ.\n",
    "\n",
    "**Survey Results:** Contains Employee ID and Happiness Score (scaled 1-10)."
   ]
  },
  {
   "cell_type": "code",
   "execution_count": 49,
   "id": "ec997f5a",
   "metadata": {},
   "outputs": [],
   "source": [
    "import numpy as np\n",
    "\n",
    "# Employee Details: Employee ID, Department, Number of Years with AtliQ\n",
    "employee_details = np.array([\n",
    "    [101, 'Sales', 3],  \n",
    "    [102, 'HR', 5],    \n",
    "    [103, 'IT', 2],        \n",
    "    [104, 'Sales', 8],    \n",
    "    [105, 'IT', 6],      \n",
    "    [106, 'HR', 4],           \n",
    "    [107, 'IT', 7],    \n",
    "    [108, 'Sales', 1], \n",
    "    [109, 'HR', 3]          \n",
    "])\n",
    "\n",
    "# Survey Results: Employee ID, Happiness Score (1-10)\n",
    "survey_results = np.array([\n",
    "    [101, 8],\n",
    "    [102, 10],\n",
    "    [103, 9],\n",
    "    [104, 6],\n",
    "    [105, 7],\n",
    "    [106, 8],\n",
    "    [107, 9],\n",
    "    [108, 5],\n",
    "    [109, 7]\n",
    "])\n"
   ]
  },
  {
   "cell_type": "markdown",
   "id": "d2a4d20d",
   "metadata": {},
   "source": [
    "### Task 1: Merge Arrays\n",
    "\n",
    "**Scenario:** To streamline analysis, combine the employee details with their survey results.\n",
    "\n",
    "**Action:** Use ```np.hstack``` to horizontally stack the two arrays."
   ]
  },
  {
   "cell_type": "code",
   "execution_count": 50,
   "id": "6f15bb12",
   "metadata": {},
   "outputs": [
    {
     "name": "stdout",
     "output_type": "stream",
     "text": [
      "[['101' 'Sales' '3' '101' '8']\n",
      " ['102' 'HR' '5' '102' '10']\n",
      " ['103' 'IT' '2' '103' '9']\n",
      " ['104' 'Sales' '8' '104' '6']\n",
      " ['105' 'IT' '6' '105' '7']\n",
      " ['106' 'HR' '4' '106' '8']\n",
      " ['107' 'IT' '7' '107' '9']\n",
      " ['108' 'Sales' '1' '108' '5']\n",
      " ['109' 'HR' '3' '109' '7']]\n"
     ]
    }
   ],
   "source": [
    "# write code here\n",
    "combined = np.hstack((employee_details, survey_results))\n",
    "print(combined)"
   ]
  },
  {
   "cell_type": "markdown",
   "id": "f6a93493",
   "metadata": {},
   "source": [
    "### Task 2: Print Scores\n",
    "\n",
    "**Scenario:** HR wants a quick view of all happiness scores to gauge overall employee sentiment.\n",
    "\n",
    "**Action:** Display all happiness scores from the merged array."
   ]
  },
  {
   "cell_type": "code",
   "execution_count": 51,
   "id": "6465fc6f",
   "metadata": {},
   "outputs": [
    {
     "name": "stdout",
     "output_type": "stream",
     "text": [
      "[[ 8]\n",
      " [10]\n",
      " [ 9]\n",
      " [ 6]\n",
      " [ 7]\n",
      " [ 8]\n",
      " [ 9]\n",
      " [ 5]\n",
      " [ 7]]\n"
     ]
    }
   ],
   "source": [
    "# write code here\n",
    "happiness = combined[:, 4:5].astype(int)\n",
    "print(happiness)"
   ]
  },
  {
   "cell_type": "markdown",
   "id": "18313d6c",
   "metadata": {},
   "source": [
    "### Task 3: Sort Scores\n",
    "\n",
    "**Scenario:** HR needs to identify the range of happiness scores to plan specific interventions.\n",
    "\n",
    "**Action:** Sort and print the happiness scores in ascending order."
   ]
  },
  {
   "cell_type": "code",
   "execution_count": 52,
   "id": "388a42b8",
   "metadata": {
    "scrolled": true
   },
   "outputs": [
    {
     "name": "stdout",
     "output_type": "stream",
     "text": [
      "[[ 5]\n",
      " [ 6]\n",
      " [ 7]\n",
      " [ 7]\n",
      " [ 8]\n",
      " [ 8]\n",
      " [ 9]\n",
      " [ 9]\n",
      " [10]]\n"
     ]
    }
   ],
   "source": [
    "# write code here\n",
    "sorted_happiness = happiness[happiness[:, 0].argsort()]\n",
    "print(sorted_happiness)"
   ]
  },
  {
   "cell_type": "markdown",
   "id": "f8167f59",
   "metadata": {},
   "source": [
    "### Task 4: Employee Details\n",
    "\n",
    "**Scenario:** For a meeting, HR needs a list of employees' IDs and departments without other details.\n",
    "\n",
    "**Action:** Iterate through the array and print each employee's ID and department."
   ]
  },
  {
   "cell_type": "code",
   "execution_count": 53,
   "id": "504c7fba",
   "metadata": {},
   "outputs": [
    {
     "name": "stdout",
     "output_type": "stream",
     "text": [
      "[['101' 'Sales']\n",
      " ['102' 'HR']\n",
      " ['103' 'IT']\n",
      " ['104' 'Sales']\n",
      " ['105' 'IT']\n",
      " ['106' 'HR']\n",
      " ['107' 'IT']\n",
      " ['108' 'Sales']\n",
      " ['109' 'HR']]\n"
     ]
    }
   ],
   "source": [
    "# write code here\n",
    "meeting = combined[:, 0:2]\n",
    "print(meeting)"
   ]
  },
  {
   "cell_type": "markdown",
   "id": "586b7e31",
   "metadata": {},
   "source": [
    "### Task 5: Happiness Scores\n",
    "\n",
    "**Scenario:** HR wants to review individual happiness scores to follow up with specific departments or employees.\n",
    "\n",
    "**Action:** Print the happiness score alongside each employee ID from the merged array."
   ]
  },
  {
   "cell_type": "code",
   "execution_count": 54,
   "id": "1584d882",
   "metadata": {},
   "outputs": [
    {
     "name": "stdout",
     "output_type": "stream",
     "text": [
      "[['101' '8']\n",
      " ['102' '10']\n",
      " ['103' '9']\n",
      " ['104' '6']\n",
      " ['105' '7']\n",
      " ['106' '8']\n",
      " ['107' '9']\n",
      " ['108' '5']\n",
      " ['109' '7']]\n"
     ]
    }
   ],
   "source": [
    "# write code here\n",
    "indi_happy = combined[:, [0, -1]]\n",
    "print(indi_happy)"
   ]
  },
  {
   "cell_type": "markdown",
   "id": "3d9a92ef",
   "metadata": {},
   "source": [
    "### Task 6: Convert Scores\n",
    "\n",
    "**Scenario:** For statistical analysis, the HR team needs the happiness scores in a consistent format.\n",
    "\n",
    "**Action:** Convert the happiness scores to float type using ```astype(float)```."
   ]
  },
  {
   "cell_type": "code",
   "execution_count": 55,
   "id": "050ee1ae",
   "metadata": {},
   "outputs": [
    {
     "data": {
      "text/plain": [
       "array([[101.,   8.],\n",
       "       [102.,  10.],\n",
       "       [103.,   9.],\n",
       "       [104.,   6.],\n",
       "       [105.,   7.],\n",
       "       [106.,   8.],\n",
       "       [107.,   9.],\n",
       "       [108.,   5.],\n",
       "       [109.,   7.]])"
      ]
     },
     "execution_count": 55,
     "metadata": {},
     "output_type": "execute_result"
    }
   ],
   "source": [
    "# write code here\n",
    "indi_happy.astype(float)"
   ]
  },
  {
   "cell_type": "markdown",
   "id": "d16afb33",
   "metadata": {},
   "source": [
    "### Task 7: Average Score\n",
    "\n",
    "**Scenario:** To measure the effectiveness of current policies, HR needs the average happiness score.\n",
    "\n",
    "**Action:** Calculate and print the average happiness score of all employees."
   ]
  },
  {
   "cell_type": "code",
   "execution_count": 56,
   "id": "94086c24",
   "metadata": {},
   "outputs": [
    {
     "name": "stdout",
     "output_type": "stream",
     "text": [
      "Average Happiness Score: 7.67\n"
     ]
    }
   ],
   "source": [
    "# write code here\n",
    "happiness_col = indi_happy[:, -1].astype(float)\n",
    "avg_happiness = np.mean(happiness_col)\n",
    "rounded_avg_happiness = np.round(avg_happiness, 2)\n",
    "print(f\"Average Happiness Score: {rounded_avg_happiness}\")"
   ]
  },
  {
   "cell_type": "markdown",
   "id": "86902984",
   "metadata": {},
   "source": [
    "### Task 8: Unique Departments\n",
    "\n",
    "**Scenario:** HR is reviewing which departments are represented in the survey to ensure all are included in future plans.\n",
    "\n",
    "**Action:** Use ```np.unique``` to find and print all unique departments from the employee details."
   ]
  },
  {
   "cell_type": "code",
   "execution_count": 57,
   "id": "b95ca0ef",
   "metadata": {},
   "outputs": [
    {
     "name": "stdout",
     "output_type": "stream",
     "text": [
      "['Sales' 'HR' 'IT' 'Sales' 'IT' 'HR' 'IT' 'Sales' 'HR']\n"
     ]
    }
   ],
   "source": [
    "# first print departments from all the records\n",
    "\n",
    "# write code here\n",
    "emp_det = employee_details[:, 1]\n",
    "print(emp_det)"
   ]
  },
  {
   "cell_type": "code",
   "execution_count": 58,
   "id": "8b567172",
   "metadata": {},
   "outputs": [
    {
     "name": "stdout",
     "output_type": "stream",
     "text": [
      "['HR' 'IT' 'Sales']\n"
     ]
    }
   ],
   "source": [
    "# now print unique departments\n",
    "\n",
    "# write code here\n",
    "print(np.unique(emp_det))"
   ]
  },
  {
   "cell_type": "markdown",
   "id": "5707cbae",
   "metadata": {},
   "source": [
    "### Task 9: HR Happiness\n",
    "\n",
    "**Scenario:** HR is conducting a self-assessment to understand how their own department perceives company policies.\n",
    "\n",
    "**Action:** Calculate and print the average happiness score within the HR department."
   ]
  },
  {
   "cell_type": "code",
   "execution_count": 59,
   "id": "2638deb2",
   "metadata": {},
   "outputs": [
    {
     "name": "stdout",
     "output_type": "stream",
     "text": [
      "['102' 'HR' '5' '10']\n",
      "['106' 'HR' '4' '8']\n",
      "['109' 'HR' '3' '7']\n"
     ]
    }
   ],
   "source": [
    "# First print all the records in HR department\n",
    "\n",
    "# write code here\n",
    "row, cols = np.where(combined == 'HR')\n",
    "\n",
    "for r, c in zip(row, cols):\n",
    "    print(combined[r, np.r_[:3, -1]])"
   ]
  },
  {
   "cell_type": "code",
   "execution_count": 60,
   "id": "39ea4122",
   "metadata": {},
   "outputs": [
    {
     "name": "stdout",
     "output_type": "stream",
     "text": [
      "[10.  8.  7.]\n"
     ]
    }
   ],
   "source": [
    "# Now from these records only print  the happiness score column. Convert that to float using astype(float) function\n",
    "\n",
    "# write code here\n",
    "hr_happiness = combined[row, -1].astype(float)\n",
    "print(hr_happiness)"
   ]
  },
  {
   "cell_type": "code",
   "execution_count": 61,
   "id": "5c836bbb",
   "metadata": {},
   "outputs": [
    {
     "name": "stdout",
     "output_type": "stream",
     "text": [
      "Average Happiness Score in HR: 8.33\n"
     ]
    }
   ],
   "source": [
    "# Take an average of this column using np.mean() function\n",
    "\n",
    "# write code here\n",
    "avg_happy = np.mean(hr_happiness)\n",
    "print(f\"Average Happiness Score in HR: {avg_happy:.2f}\")"
   ]
  }
 ],
 "metadata": {
  "kernelspec": {
   "display_name": "Python 3",
   "language": "python",
   "name": "python3"
  },
  "language_info": {
   "codemirror_mode": {
    "name": "ipython",
    "version": 3
   },
   "file_extension": ".py",
   "mimetype": "text/x-python",
   "name": "python",
   "nbconvert_exporter": "python",
   "pygments_lexer": "ipython3",
   "version": "3.11.9"
  }
 },
 "nbformat": 4,
 "nbformat_minor": 5
}
