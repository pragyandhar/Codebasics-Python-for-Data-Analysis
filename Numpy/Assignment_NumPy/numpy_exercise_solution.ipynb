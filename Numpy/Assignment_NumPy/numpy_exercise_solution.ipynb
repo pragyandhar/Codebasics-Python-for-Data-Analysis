{
 "cells": [
  {
   "cell_type": "markdown",
   "id": "284b5bf3",
   "metadata": {},
   "source": [
    "<h3 align=\"center\" style=\"color:blue\">Codebasics Python Course: Numpy Exercise</h3>"
   ]
  },
  {
   "cell_type": "markdown",
   "id": "869972b3",
   "metadata": {},
   "source": [
    "At **AtliQ**, a software service company, the **HR team** wants to understand how happy employees are with company policies and how long they've been with the company. This survey aims to help HR improve the work environment and keep employees satisfied.\n",
    "\n",
    "**Data Structure:** Two numpy arrays capture survey results and employee details:\n",
    "\n",
    "**Employee Details:** Contains Employee ID, Department, and Number of Years with AtliQ.\n",
    "\n",
    "**Survey Results:** Contains Employee ID and Happiness Score (scaled 1-10)."
   ]
  },
  {
   "cell_type": "code",
   "execution_count": 1,
   "id": "d075e123-54e3-41ad-b7b6-d55362a59b61",
   "metadata": {},
   "outputs": [],
   "source": [
    "import numpy as np\n",
    "\n",
    "# Employee Details: Employee ID, Department, Number of Years with AtliQ\n",
    "employee_details = np.array([\n",
    "    [101, 'Sales', 3],  \n",
    "    [102, 'HR', 5],    \n",
    "    [103, 'IT', 2],        \n",
    "    [104, 'Sales', 8],    \n",
    "    [105, 'IT', 6],      \n",
    "    [106, 'HR', 4],           \n",
    "    [107, 'IT', 7],    \n",
    "    [108, 'Sales', 1], \n",
    "    [109, 'HR', 3]          \n",
    "])\n",
    "\n",
    "# Survey Results: Employee ID, Happiness Score (1-10)\n",
    "survey_results = np.array([\n",
    "    [101, 8],\n",
    "    [102, 10],\n",
    "    [103, 9],\n",
    "    [104, 6],\n",
    "    [105, 7],\n",
    "    [106, 8],\n",
    "    [107, 9],\n",
    "    [108, 5],\n",
    "    [109, 7]\n",
    "])\n"
   ]
  },
  {
   "cell_type": "markdown",
   "id": "b6a01eab",
   "metadata": {},
   "source": [
    "### Task 1: Merge Arrays\n",
    "\n",
    "**Scenario:** To streamline analysis, combine the employee details with their survey results.\n",
    "\n",
    "**Action:** Use ```np.hstack``` to horizontally stack the two arrays."
   ]
  },
  {
   "cell_type": "code",
   "execution_count": 2,
   "id": "16f6db7c",
   "metadata": {},
   "outputs": [
    {
     "data": {
      "text/plain": [
       "array([['101', 'Sales', '3', '101', '8'],\n",
       "       ['102', 'HR', '5', '102', '10'],\n",
       "       ['103', 'IT', '2', '103', '9'],\n",
       "       ['104', 'Sales', '8', '104', '6'],\n",
       "       ['105', 'IT', '6', '105', '7'],\n",
       "       ['106', 'HR', '4', '106', '8'],\n",
       "       ['107', 'IT', '7', '107', '9'],\n",
       "       ['108', 'Sales', '1', '108', '5'],\n",
       "       ['109', 'HR', '3', '109', '7']], dtype='<U11')"
      ]
     },
     "execution_count": 2,
     "metadata": {},
     "output_type": "execute_result"
    }
   ],
   "source": [
    "merged = np.hstack((employee_details, survey_results))\n",
    "merged"
   ]
  },
  {
   "cell_type": "markdown",
   "id": "48658454",
   "metadata": {},
   "source": [
    "### Task 2: Print Scores\n",
    "\n",
    "**Scenario:** HR wants a quick view of all happiness scores to gauge overall employee sentiment.\n",
    "\n",
    "**Action:** Display all happiness scores from the merged array."
   ]
  },
  {
   "cell_type": "code",
   "execution_count": 3,
   "id": "13c794b9",
   "metadata": {},
   "outputs": [
    {
     "data": {
      "text/plain": [
       "array(['8', '10', '9', '6', '7', '8', '9', '5', '7'], dtype='<U11')"
      ]
     },
     "execution_count": 3,
     "metadata": {},
     "output_type": "execute_result"
    }
   ],
   "source": [
    "merged[:,4]"
   ]
  },
  {
   "cell_type": "markdown",
   "id": "670a6137",
   "metadata": {},
   "source": [
    "### Task 3: Sort Scores\n",
    "\n",
    "**Scenario:** HR needs to identify the range of happiness scores to plan specific interventions.\n",
    "\n",
    "**Action:** Sort and print the happiness scores in ascending order."
   ]
  },
  {
   "cell_type": "code",
   "execution_count": 4,
   "id": "312d609e",
   "metadata": {
    "scrolled": true
   },
   "outputs": [
    {
     "data": {
      "text/plain": [
       "array(['10', '5', '6', '7', '7', '8', '8', '9', '9'], dtype='<U11')"
      ]
     },
     "execution_count": 4,
     "metadata": {},
     "output_type": "execute_result"
    }
   ],
   "source": [
    "np.sort(merged[:,4])"
   ]
  },
  {
   "cell_type": "markdown",
   "id": "830f32d5",
   "metadata": {},
   "source": [
    "### Task 4: Employee Details\n",
    "\n",
    "**Scenario:** For a meeting, HR needs a list of employees' IDs and departments without other details.\n",
    "\n",
    "**Action:** Iterate through the array and print each employee's ID and department."
   ]
  },
  {
   "cell_type": "code",
   "execution_count": 5,
   "id": "909b9698",
   "metadata": {},
   "outputs": [
    {
     "name": "stdout",
     "output_type": "stream",
     "text": [
      "ID: 101, Department: Sales\n",
      "ID: 102, Department: HR\n",
      "ID: 103, Department: IT\n",
      "ID: 104, Department: Sales\n",
      "ID: 105, Department: IT\n",
      "ID: 106, Department: HR\n",
      "ID: 107, Department: IT\n",
      "ID: 108, Department: Sales\n",
      "ID: 109, Department: HR\n"
     ]
    }
   ],
   "source": [
    "for row in merged:\n",
    "    print(f'ID: {row[0]}, Department: {row[1]}')"
   ]
  },
  {
   "cell_type": "markdown",
   "id": "b9cd00e5",
   "metadata": {},
   "source": [
    "### Task 5: Happiness Scores\n",
    "\n",
    "**Scenario:** HR wants to review individual happiness scores to follow up with specific departments or employees.\n",
    "\n",
    "**Action:** Print the happiness score alongside each employee ID from the merged array."
   ]
  },
  {
   "cell_type": "code",
   "execution_count": 6,
   "id": "e9cec00a",
   "metadata": {},
   "outputs": [
    {
     "name": "stdout",
     "output_type": "stream",
     "text": [
      "ID: 101, Happiness Score: 8\n",
      "ID: 102, Happiness Score: 10\n",
      "ID: 103, Happiness Score: 9\n",
      "ID: 104, Happiness Score: 6\n",
      "ID: 105, Happiness Score: 7\n",
      "ID: 106, Happiness Score: 8\n",
      "ID: 107, Happiness Score: 9\n",
      "ID: 108, Happiness Score: 5\n",
      "ID: 109, Happiness Score: 7\n"
     ]
    }
   ],
   "source": [
    "for row in merged:\n",
    "    print(f'ID: {row[0]}, Happiness Score: {row[4]}')"
   ]
  },
  {
   "cell_type": "markdown",
   "id": "1a441890",
   "metadata": {},
   "source": [
    "### Task 6: Convert Scores\n",
    "\n",
    "**Scenario:** For statistical analysis, the HR team needs the happiness scores in a consistent format.\n",
    "\n",
    "**Action:** Convert the happiness scores to float type using ```astype(float)```."
   ]
  },
  {
   "cell_type": "code",
   "execution_count": 7,
   "id": "7a0019df",
   "metadata": {},
   "outputs": [
    {
     "data": {
      "text/plain": [
       "array([ 8., 10.,  9.,  6.,  7.,  8.,  9.,  5.,  7.])"
      ]
     },
     "execution_count": 7,
     "metadata": {},
     "output_type": "execute_result"
    }
   ],
   "source": [
    "merged[:,4].astype(float)"
   ]
  },
  {
   "cell_type": "markdown",
   "id": "050d0302",
   "metadata": {},
   "source": [
    "### Task 7: Average Score\n",
    "\n",
    "**Scenario:** To measure the effectiveness of current policies, HR needs the average happiness score.\n",
    "\n",
    "**Action:** Calculate and print the average happiness score of all employees."
   ]
  },
  {
   "cell_type": "code",
   "execution_count": 8,
   "id": "0999e743",
   "metadata": {},
   "outputs": [
    {
     "data": {
      "text/plain": [
       "7.666666666666667"
      ]
     },
     "execution_count": 8,
     "metadata": {},
     "output_type": "execute_result"
    }
   ],
   "source": [
    "np.mean(merged[:, 4].astype(float))"
   ]
  },
  {
   "cell_type": "markdown",
   "id": "e81fed6e",
   "metadata": {},
   "source": [
    "### Task 8: Unique Departments\n",
    "\n",
    "**Scenario:** HR is reviewing which departments are represented in the survey to ensure all are included in future plans.\n",
    "\n",
    "**Action:** Use ```np.unique``` to find and print all unique departments from the employee details."
   ]
  },
  {
   "cell_type": "code",
   "execution_count": 9,
   "id": "d0c9595d",
   "metadata": {},
   "outputs": [
    {
     "data": {
      "text/plain": [
       "array(['Sales', 'HR', 'IT', 'Sales', 'IT', 'HR', 'IT', 'Sales', 'HR'],\n",
       "      dtype='<U11')"
      ]
     },
     "execution_count": 9,
     "metadata": {},
     "output_type": "execute_result"
    }
   ],
   "source": [
    "# first print departments from all the records\n",
    "merged[:,1]"
   ]
  },
  {
   "cell_type": "code",
   "execution_count": 10,
   "id": "f05a0c01",
   "metadata": {},
   "outputs": [
    {
     "data": {
      "text/plain": [
       "array(['HR', 'IT', 'Sales'], dtype='<U11')"
      ]
     },
     "execution_count": 10,
     "metadata": {},
     "output_type": "execute_result"
    }
   ],
   "source": [
    "# now print unique departments\n",
    "np.unique(merged[:,1])"
   ]
  },
  {
   "cell_type": "markdown",
   "id": "f2d20762",
   "metadata": {},
   "source": [
    "### Task 9: HR Happiness\n",
    "\n",
    "**Scenario:** HR is conducting a self-assessment to understand how their own department perceives company policies.\n",
    "\n",
    "**Action:** Calculate and print the average happiness score within the HR department."
   ]
  },
  {
   "cell_type": "code",
   "execution_count": 11,
   "id": "d4ea9ce8",
   "metadata": {},
   "outputs": [
    {
     "data": {
      "text/plain": [
       "array([['102', 'HR', '5', '102', '10'],\n",
       "       ['106', 'HR', '4', '106', '8'],\n",
       "       ['109', 'HR', '3', '109', '7']], dtype='<U11')"
      ]
     },
     "execution_count": 11,
     "metadata": {},
     "output_type": "execute_result"
    }
   ],
   "source": [
    "# First print all the records for HR department\n",
    "merged[merged[:,1]=='HR']"
   ]
  },
  {
   "cell_type": "code",
   "execution_count": 12,
   "id": "45955f54",
   "metadata": {},
   "outputs": [
    {
     "data": {
      "text/plain": [
       "array([10.,  8.,  7.])"
      ]
     },
     "execution_count": 12,
     "metadata": {},
     "output_type": "execute_result"
    }
   ],
   "source": [
    "merged[merged[:,1]=='HR'][:,4].astype(float)"
   ]
  },
  {
   "cell_type": "code",
   "execution_count": 13,
   "id": "02f9497b",
   "metadata": {},
   "outputs": [
    {
     "data": {
      "text/plain": [
       "8.333333333333334"
      ]
     },
     "execution_count": 13,
     "metadata": {},
     "output_type": "execute_result"
    }
   ],
   "source": [
    "np.average(merged[merged[:,1]=='HR'][:,4].astype(float))"
   ]
  },
  {
   "cell_type": "code",
   "execution_count": null,
   "id": "27de5354-0fd0-4c1d-aa8d-ab4130685cfa",
   "metadata": {},
   "outputs": [],
   "source": []
  }
 ],
 "metadata": {
  "kernelspec": {
   "display_name": "Python 3 (ipykernel)",
   "language": "python",
   "name": "python3"
  },
  "language_info": {
   "codemirror_mode": {
    "name": "ipython",
    "version": 3
   },
   "file_extension": ".py",
   "mimetype": "text/x-python",
   "name": "python",
   "nbconvert_exporter": "python",
   "pygments_lexer": "ipython3",
   "version": "3.12.1"
  }
 },
 "nbformat": 4,
 "nbformat_minor": 5
}
